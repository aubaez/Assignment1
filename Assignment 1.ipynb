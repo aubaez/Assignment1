{
 "cells": [
  {
   "cell_type": "markdown",
   "metadata": {},
   "source": [
    "# Assignment 1"
   ]
  },
  {
   "cell_type": "code",
   "execution_count": 112,
   "metadata": {},
   "outputs": [],
   "source": [
    "from pynq.overlays.base import BaseOverlay\n",
    "from IPython.core.interactiveshell import InteractiveShell\n",
    "InteractiveShell.ast_node_interactivity = 'all'\n",
    "import time\n",
    "from datetime import datetime\n",
    "base = BaseOverlay(\"base.bit\")"
   ]
  },
  {
   "cell_type": "code",
   "execution_count": 113,
   "metadata": {},
   "outputs": [],
   "source": [
    "%%microblaze base.PMODB\n",
    "\n",
    "#include \"gpio.h\"\n",
    "#include \"pyprintf.h\"\n",
    "\n",
    "//Function to turn on/off a selected pin of PMODB\n",
    "void write_gpio(unsigned int pin, unsigned int val){\n",
    "    if (val > 1){\n",
    "        pyprintf(\"pin value must be 0 or 1\");\n",
    "    }\n",
    "    gpio pin_out = gpio_open(pin);\n",
    "    gpio_set_direction(pin_out, GPIO_OUT);\n",
    "    gpio_write(pin_out, val);\n",
    "}\n",
    "\n",
    "//Function to read the value of a selected pin of PMODB\n",
    "unsigned int read_gpio(unsigned int pin){\n",
    "    gpio pin_in = gpio_open(pin);\n",
    "    gpio_set_direction(pin_in, GPIO_IN);\n",
    "    return gpio_read(pin_in);\n",
    "}\n",
    "\n",
    "//Fuction to reset all GPIO pins on PMODB\n",
    "void reset_pins(){\n",
    "    int i;\n",
    "    for(i = 0; i <8; i++){\n",
    "        write_gpio(i,0);\n",
    "    }\n",
    "}"
   ]
  },
  {
   "cell_type": "code",
   "execution_count": 99,
   "metadata": {},
   "outputs": [],
   "source": [
    "write_gpio(6,1)"
   ]
  },
  {
   "cell_type": "code",
   "execution_count": 88,
   "metadata": {},
   "outputs": [],
   "source": [
    "reset_pins()"
   ]
  },
  {
   "cell_type": "markdown",
   "metadata": {},
   "source": [
    "## PWM with Python3"
   ]
  },
  {
   "cell_type": "code",
   "execution_count": 37,
   "metadata": {},
   "outputs": [],
   "source": [
    "#Function to emulate PWM. frequency is in Hz and duty_cycle is percentage\n",
    "def my_PWM(frequency, duty_cycle):\n",
    "    timePeriod = 1/frequency\n",
    "\n",
    "    while True:\n",
    "        if duty_cycle == 0: #corner case for duty cycle 0%\n",
    "            write_gpio(5,0)\n",
    "        elif duty_cycle == 100: #corner case for duty cycle 100%\n",
    "            write_gpio(5,1)\n",
    "        else:\n",
    "            onTime = (duty_cycle/100)*timePeriod;\n",
    "            offTime = timePeriod - onTime;\n",
    "            write_gpio(5,1)\n",
    "            time.sleep(onTime)\n",
    "           # print(onTime)\n",
    "            reset_pins()\n",
    "            time.sleep(offTime)\n",
    "           # print(offTime)\n",
    "    "
   ]
  },
  {
   "cell_type": "code",
   "execution_count": 115,
   "metadata": {},
   "outputs": [],
   "source": [
    "reset_pins()"
   ]
  },
  {
   "cell_type": "code",
   "execution_count": 40,
   "metadata": {},
   "outputs": [
    {
     "ename": "KeyboardInterrupt",
     "evalue": "",
     "output_type": "error",
     "traceback": [
      "\u001b[0;31m---------------------------------------------------------------------------\u001b[0m",
      "\u001b[0;31mKeyboardInterrupt\u001b[0m                         Traceback (most recent call last)",
      "\u001b[0;32m<ipython-input-40-bedb4cf3d520>\u001b[0m in \u001b[0;36m<module>\u001b[0;34m\u001b[0m\n\u001b[0;32m----> 1\u001b[0;31m \u001b[0mmy_PWM\u001b[0m\u001b[0;34m(\u001b[0m\u001b[0;36m50\u001b[0m\u001b[0;34m,\u001b[0m\u001b[0;36m50\u001b[0m\u001b[0;34m)\u001b[0m\u001b[0;34m\u001b[0m\u001b[0;34m\u001b[0m\u001b[0m\n\u001b[0m",
      "\u001b[0;32m<ipython-input-37-c8c7e2c05ba9>\u001b[0m in \u001b[0;36mmy_PWM\u001b[0;34m(frequency, duty_cycle)\u001b[0m\n\u001b[1;32m     12\u001b[0m             \u001b[0moffTime\u001b[0m \u001b[0;34m=\u001b[0m \u001b[0mtimePeriod\u001b[0m \u001b[0;34m-\u001b[0m \u001b[0monTime\u001b[0m\u001b[0;34m;\u001b[0m\u001b[0;34m\u001b[0m\u001b[0;34m\u001b[0m\u001b[0m\n\u001b[1;32m     13\u001b[0m             \u001b[0mwrite_gpio\u001b[0m\u001b[0;34m(\u001b[0m\u001b[0;36m5\u001b[0m\u001b[0;34m,\u001b[0m\u001b[0;36m1\u001b[0m\u001b[0;34m)\u001b[0m\u001b[0;34m\u001b[0m\u001b[0;34m\u001b[0m\u001b[0m\n\u001b[0;32m---> 14\u001b[0;31m             \u001b[0mtime\u001b[0m\u001b[0;34m.\u001b[0m\u001b[0msleep\u001b[0m\u001b[0;34m(\u001b[0m\u001b[0monTime\u001b[0m\u001b[0;34m)\u001b[0m\u001b[0;34m\u001b[0m\u001b[0;34m\u001b[0m\u001b[0m\n\u001b[0m\u001b[1;32m     15\u001b[0m            \u001b[0;31m# print(onTime)\u001b[0m\u001b[0;34m\u001b[0m\u001b[0;34m\u001b[0m\u001b[0;34m\u001b[0m\u001b[0m\n\u001b[1;32m     16\u001b[0m             \u001b[0mreset_pins\u001b[0m\u001b[0;34m(\u001b[0m\u001b[0;34m)\u001b[0m\u001b[0;34m\u001b[0m\u001b[0;34m\u001b[0m\u001b[0m\n",
      "\u001b[0;31mKeyboardInterrupt\u001b[0m: "
     ]
    }
   ],
   "source": [
    "my_PWM(50,50)"
   ]
  },
  {
   "cell_type": "markdown",
   "metadata": {},
   "source": [
    "### Report:\n",
    "To emulate PWM, my thought process was to design an infinite loop that would turn an LED on and off continuously.  I made use of the previous code where we write to gpio and set the pin to 1 in order to turn on the LED. Then I reset the pin to 0 in order to achieve the time \"off.\" I determined that the time period would be 1/frequency and calculated duty cycle as a percentage of the time period.  By varying the frequency, I found that the Optimal PWM frequency was around 50Hz.  The physical flashing was no longer perceivable to my eye.  Alternatively, changing the duty cycle value affected the LED perceived brightness.  Specifically, to my eye the brightness around 10% duty cycle looked like it was at 25% bright.  At 30% duty cycle, I perceived 50% brightness.  At 50% duty cycle, I perceived 75% brightness.  And any duty cycle of 60% or higher looked 100% brightness to me."
   ]
  },
  {
   "cell_type": "markdown",
   "metadata": {},
   "source": [
    "## Perceived LED Brightness Plot"
   ]
  },
  {
   "cell_type": "markdown",
   "metadata": {
    "slideshow": {
     "slide_type": ""
    }
   },
   "source": [
    "The plot below shows the different duty cycles at which my eye perceived the different brightness percantages."
   ]
  },
  {
   "cell_type": "code",
   "execution_count": 8,
   "metadata": {},
   "outputs": [
    {
     "data": {
      "text/plain": [
       "Text(0, 0.5, 'perceived brightness')"
      ]
     },
     "execution_count": 8,
     "metadata": {},
     "output_type": "execute_result"
    },
    {
     "data": {
      "image/png": "[encoded data removed]",
      "text/plain": [
       "<Figure size 432x288 with 1 Axes>"
      ]
     },
     "metadata": {
      "needs_background": "light"
     },
     "output_type": "display_data"
    }
   ],
   "source": [
    "from matplotlib import pyplot as plot\n",
    "import numpy as num\n",
    "import math\n",
    "%matplotlib inline\n",
    "fig = plot.figure()\n",
    "ax = fig.add_axes([0,0,1,1])\n",
    "ax.plot(10,25,marker = 'o')\n",
    "ax.plot(30,50,marker = 'o')\n",
    "ax.plot(50,75,marker = 'o')\n",
    "ax.plot(60,100,marker = 'o')\n",
    "ax.set_title('LED Brightness')\n",
    "ax.set_xlabel('duty cycle %')\n",
    "ax.set_ylabel('perceived brightness')"
   ]
  },
  {
   "cell_type": "markdown",
   "metadata": {},
   "source": [
    "### Trouble Encountered\n",
    "An issue I encountered with this part of the assignment was that sometimes interrupting the code by pressing the STOP button, the LED would become unresponsive.  A workaround that worked for me was reloading the Overlay and MicroBlaze code.  This would reset the board/LED and I could continue testing my code.  I also tried adding print statements to help walk through my code and debug, but my code worked as expected until I interrupted the code too many times."
   ]
  },
  {
   "cell_type": "markdown",
   "metadata": {},
   "source": [
    "## PWM using ASYNCIO"
   ]
  },
  {
   "cell_type": "code",
   "execution_count": null,
   "metadata": {},
   "outputs": [
    {
     "data": {
      "text/plain": [
       "<Task pending name='Task-81' coro=<async_PWM() running at <ipython-input-116-e19073f331dc>:7>>"
      ]
     },
     "execution_count": 116,
     "metadata": {},
     "output_type": "execute_result"
    },
    {
     "data": {
      "text/plain": [
       "<Task pending name='Task-82' coro=<get_btns() running at <ipython-input-116-e19073f331dc>:38>>"
      ]
     },
     "execution_count": 116,
     "metadata": {},
     "output_type": "execute_result"
    }
   ],
   "source": [
    "import asyncio\n",
    "reset_pins() #start with all pins set to 0\n",
    "btns = base.btns_gpio #define buttons\n",
    "cond = True #set initial condition to true\n",
    "flag = 0 # set flag to zero to start loop with the red LED blinking\n",
    "\n",
    "async def async_PWM(frequency):\n",
    "    global flag, cond, start\n",
    "    timePeriod = 1/frequency #calculate time period\n",
    "    timeOn = timePeriod/2 #determine time on wait\n",
    "    timeOff = timePeriod - timeOn #determine time off wait\n",
    "    while cond: # we want to continously run the code for an embedded system\n",
    "        #print(flag)\n",
    "        if flag == 0: # if flag value is 0, this is initial state and we want blink red LED\n",
    "            write_gpio(7,1)\n",
    "            await asyncio.sleep(timeOn)\n",
    "            write_gpio(7,0)\n",
    "            await asyncio.sleep(timeOff)\n",
    "        elif flag == 1: # if flag value is 1, button 0, 1, or 2 has been pressed, so we blink all 3 LED colors\n",
    "            write_gpio(7,1)\n",
    "            await asyncio.sleep(timeOn)\n",
    "            write_gpio(7,0)\n",
    "            await asyncio.sleep(timeOff)\n",
    "            write_gpio(6,1)\n",
    "            await asyncio.sleep(timeOn)\n",
    "            write_gpio(6,0)\n",
    "            await asyncio.sleep(timeOff)\n",
    "            write_gpio(5,1)\n",
    "            await asyncio.sleep(timeOn)\n",
    "            write_gpio(5,0)\n",
    "            await asyncio.sleep(timeOff)\n",
    "        elif flag == 2: # if flag value is 2, button 3 has been pressed, so we want to stop blinking\n",
    "            write_gpio(7,0)\n",
    "            write_gpio(6,0)\n",
    "            write_gpio(5,0)\n",
    "            await asyncio.sleep(timePeriod)\n",
    "\n",
    "async def get_btns(_loop):\n",
    "    global flag, cond, start\n",
    "    while cond:\n",
    "        await asyncio.sleep(0.01)\n",
    "        if base.buttons[0].read() != 0: #if button 0 was pressed, set flag to 1\n",
    "            flag = 1                     \n",
    "        elif base.buttons[1].read() != 0: #if button 1 was pressed, set flag to 1\n",
    "            flag = 1\n",
    "        elif base.buttons[2].read() != 0: #if button 2 was pressed, set flag to 1\n",
    "            flag = 1\n",
    "        elif base.buttons[3].read() != 0: #if button 3 was pressed, set flag to 1\n",
    "            flag = 2\n",
    "            \n",
    "\n",
    "loop = asyncio.new_event_loop() #define loop\n",
    "loop.create_task(async_PWM(.5)) # create PWM task to loop, and set PWM frequency to .5hz\n",
    "loop.create_task(get_btns(loop)) # create button reader task to loop\n",
    "loop.run_forever() #run loop infinitely\n"
   ]
  },
  {
   "cell_type": "markdown",
   "metadata": {},
   "source": [
    "### Conclusion\n",
    "For the async PWM part of this assignment, I first worked on the starting state which was blinking the red LED.  Then I  made sure it was working with the task that read from the buttons.  Once I got that working, I thought of the best way to design the remaining functionalities which was transitioning between states based on button input.  I decided to use a flag that would help map which state I would transition to, depending on the button pushed.  There are 3 main states: red LED blink state, red blue green LEDs blink state, and no LED blink state.  These states were determined by flag values 0, 1, 2 depending on what button is pressed.  Once I got all 3 states coded, I noticed my LED would get stuck on the no blink state.  I realized I didnt have the asyncio.sleep wait, which would sync the two tasks.  To test that the different states were working, I added a print command that would output the value of the flag.  This let me know which state I was in. I tested 2 states first and then all 3 states.   "
   ]
  },
  {
   "cell_type": "code",
   "execution_count": null,
   "metadata": {},
   "outputs": [],
   "source": []
  }
 ],
 "metadata": {
  "kernelspec": {
   "display_name": "Python 3",
   "language": "python",
   "name": "python3"
  },
  "language_info": {
   "codemirror_mode": {
    "name": "ipython",
    "version": 3
   },
   "file_extension": ".py",
   "mimetype": "text/x-python",
   "name": "python",
   "nbconvert_exporter": "python",
   "pygments_lexer": "ipython3",
   "version": "3.8.2"
  }
 },
 "nbformat": 4,
 "nbformat_minor": 2
}
